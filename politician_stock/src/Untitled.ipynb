{
 "cells": [
  {
   "cell_type": "markdown",
   "id": "2d6bf05e",
   "metadata": {},
   "source": [
    "# Amendments Scraping"
   ]
  },
  {
   "cell_type": "code",
   "execution_count": 7,
   "id": "a8ac2e8d",
   "metadata": {},
   "outputs": [],
   "source": [
    "import selenium"
   ]
  },
  {
   "cell_type": "code",
   "execution_count": null,
   "id": "93d2a88a",
   "metadata": {},
   "outputs": [],
   "source": []
  }
 ],
 "metadata": {
  "kernelspec": {
   "display_name": "Python 3 (ipykernel)",
   "language": "python",
   "name": "python3"
  },
  "language_info": {
   "codemirror_mode": {
    "name": "ipython",
    "version": 3
   },
   "file_extension": ".py",
   "mimetype": "text/x-python",
   "name": "python",
   "nbconvert_exporter": "python",
   "pygments_lexer": "ipython3",
   "version": "3.8.10"
  }
 },
 "nbformat": 4,
 "nbformat_minor": 5
}
