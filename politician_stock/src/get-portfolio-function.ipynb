{
 "cells": [
  {
   "cell_type": "markdown",
   "id": "cac4d61e",
   "metadata": {},
   "source": [
    "# Get Portfolio"
   ]
  },
  {
   "cell_type": "code",
   "execution_count": 11,
   "id": "fcf013b0",
   "metadata": {},
   "outputs": [],
   "source": [
    "import numpy as np\n",
    "import pandas as pd\n",
    "from datetime import datetime"
   ]
  },
  {
   "cell_type": "code",
   "execution_count": 104,
   "id": "c09ed8f2",
   "metadata": {},
   "outputs": [],
   "source": [
    "class Portfolio():\n",
    "    def __init__(self, data):\n",
    "        self.data = data\n",
    "        \n",
    "        \n",
    "    def get_stock_position_by_name(self, date, firstname, lastname, permno):\n",
    "        p_data = self.data[(self.data[\"firstname\"]==firstname) & (self.data[\"lastname\"]==lastname)].copy()\n",
    "        if len(p_data) == 0:\n",
    "            print(f\"{firstname} {lastname} is not in dataset. \")\n",
    "            return None, None, None\n",
    "        ps_data = p_data[p_data[\"permno\"]==permno].copy()\n",
    "        if len(ps_data) == 0:\n",
    "            print(f\"{firstname} {lastname} did not have stock {permno}. \")\n",
    "            return None, None, None\n",
    "        \n",
    "        date = datetime.fromisoformat(date)\n",
    "        ps_data[\"evtdate\"] = ps_data[\"evtdate\"].apply(datetime.fromisoformat)\n",
    "        ps_data[\"evtdate_end\"] = ps_data[\"evtdate_end\"].apply(datetime.fromisoformat)\n",
    "        \n",
    "        for i in np.arange(len(ps_data)):\n",
    "            if date < min(ps_data[\"evtdate\"]):\n",
    "                return datetime.fromisoformat(\"2011-12-31\"), 0, -1\n",
    "            if date >= ps_data[\"evtdate\"].iloc[i] and date <= ps_data[\"evtdate_end\"].iloc[i]:\n",
    "                return ps_data[\"evtdate\"].iloc[i], ps_data[\"position\"].iloc[i], ps_data[\"init_pos\"].iloc[i]\n",
    "    \n",
    "    def get_portfolio_by_name(self, date, firstname, lastname):\n",
    "        p_data = self.data[(self.data[\"firstname\"]==firstname) & (self.data[\"lastname\"]==lastname)]\n",
    "        if len(p_data) == 0:\n",
    "            print(f\"{firstname} {lastname} is not in dataset. \")\n",
    "            return None\n",
    "        \n",
    "        portfolio = pd.DataFrame()\n",
    "        for stock in np.unique(p_data[\"permno\"]):\n",
    "            portfolio = pd.concat([portfolio, \n",
    "                                   pd.DataFrame([[stock] + list(self.get_stock_position_by_name(date, firstname, lastname, stock))])])\n",
    "        portfolio.columns = [\"permno\", \"evtdate\", \"position\", \"init_pos\"]\n",
    "        return portfolio\n",
    "    \n",
    "    \n",
    "    def get_stock_position_by_fecid(self, date, fecid, permno):\n",
    "        p_data = self.data[self.data[\"fecid\"]==fecid]\n",
    "        if len(p_data) == 0:\n",
    "            print(f\"{fecid} is not in dataset. \")\n",
    "            return None, None, None\n",
    "        ps_data = p_data[p_data[\"permno\"]==permno].copy()\n",
    "        if len(ps_data) == 0:\n",
    "            print(f\"{firstname} {lastname} did not have stock {permno}. \")\n",
    "            return None, None, None\n",
    "        \n",
    "        date = datetime.fromisoformat(date)\n",
    "        ps_data[\"evtdate\"] = ps_data[\"evtdate\"].apply(datetime.fromisoformat)\n",
    "        ps_data[\"evtdate_end\"] = ps_data[\"evtdate_end\"].apply(datetime.fromisoformat)\n",
    "        \n",
    "        for i in np.arange(len(ps_data)):\n",
    "            if date < min(ps_data[\"evtdate\"]):\n",
    "                return datetime.fromisoformat(\"2011-12-31\"), 0, -1\n",
    "            if date >= ps_data[\"evtdate\"].iloc[i] and date <= ps_data[\"evtdate_end\"].iloc[i]:\n",
    "                return ps_data[\"evtdate\"].iloc[i], ps_data[\"position\"].iloc[i], ps_data[\"init_pos\"].iloc[i]\n",
    "    \n",
    "    def get_portfolio_by_fecid(self, date, fecid):\n",
    "        p_data = self.data[self.data[\"fecid\"]==firstname]\n",
    "        if len(p_data) == 0:\n",
    "            print(f\"{fecid} is not in dataset. \")\n",
    "            return p_data\n",
    "        \n",
    "        portfolio = pd.DataFrame()\n",
    "        for stock in np.unique(p_data[\"permno\"]):\n",
    "            portfolio = pd.concat([portfolio, \n",
    "                                   pd.DataFrame([[stock] + list(self.get_stock_position_by_fecid(date, firstname, lastname, stock))])])\n",
    "        portfolio.columns = [\"permno\", \"evtdate\", \"position\", \"init_pos\"]\n",
    "        return portfolio"
   ]
  },
  {
   "cell_type": "code",
   "execution_count": 105,
   "id": "fd6a339f",
   "metadata": {},
   "outputs": [],
   "source": [
    "bs_data_w_position = pd.read_csv(\"../data/bs_data_w_positions.csv\")\n",
    "portfolio = Portfolio(bs_data_w_position)"
   ]
  },
  {
   "cell_type": "code",
   "execution_count": 106,
   "id": "88ba0d82",
   "metadata": {},
   "outputs": [
    {
     "data": {
      "text/html": [
       "<div>\n",
       "<style scoped>\n",
       "    .dataframe tbody tr th:only-of-type {\n",
       "        vertical-align: middle;\n",
       "    }\n",
       "\n",
       "    .dataframe tbody tr th {\n",
       "        vertical-align: top;\n",
       "    }\n",
       "\n",
       "    .dataframe thead th {\n",
       "        text-align: right;\n",
       "    }\n",
       "</style>\n",
       "<table border=\"1\" class=\"dataframe\">\n",
       "  <thead>\n",
       "    <tr style=\"text-align: right;\">\n",
       "      <th></th>\n",
       "      <th>permno</th>\n",
       "      <th>evtdate</th>\n",
       "      <th>position</th>\n",
       "      <th>init_pos</th>\n",
       "    </tr>\n",
       "  </thead>\n",
       "  <tbody>\n",
       "    <tr>\n",
       "      <th>0</th>\n",
       "      <td>12060.0</td>\n",
       "      <td>2018-08-28</td>\n",
       "      <td>-8000.5</td>\n",
       "      <td>1</td>\n",
       "    </tr>\n",
       "    <tr>\n",
       "      <th>0</th>\n",
       "      <td>25785.0</td>\n",
       "      <td>2018-08-28</td>\n",
       "      <td>-8000.5</td>\n",
       "      <td>1</td>\n",
       "    </tr>\n",
       "    <tr>\n",
       "      <th>0</th>\n",
       "      <td>66181.0</td>\n",
       "      <td>2018-08-28</td>\n",
       "      <td>-8000.5</td>\n",
       "      <td>1</td>\n",
       "    </tr>\n",
       "    <tr>\n",
       "      <th>0</th>\n",
       "      <td>89330.0</td>\n",
       "      <td>2018-08-28</td>\n",
       "      <td>-115.0</td>\n",
       "      <td>1</td>\n",
       "    </tr>\n",
       "  </tbody>\n",
       "</table>\n",
       "</div>"
      ],
      "text/plain": [
       "    permno    evtdate  position  init_pos\n",
       "0  12060.0 2018-08-28   -8000.5         1\n",
       "0  25785.0 2018-08-28   -8000.5         1\n",
       "0  66181.0 2018-08-28   -8000.5         1\n",
       "0  89330.0 2018-08-28    -115.0         1"
      ]
     },
     "execution_count": 106,
     "metadata": {},
     "output_type": "execute_result"
    }
   ],
   "source": [
    "portfolio.get_portfolio_by_name(\"2018-08-29\", \"Martha\", \"Roby\")"
   ]
  },
  {
   "cell_type": "code",
   "execution_count": null,
   "id": "bfdce5e8",
   "metadata": {},
   "outputs": [],
   "source": []
  }
 ],
 "metadata": {
  "kernelspec": {
   "display_name": "Python 3 (ipykernel)",
   "language": "python",
   "name": "python3"
  },
  "language_info": {
   "codemirror_mode": {
    "name": "ipython",
    "version": 3
   },
   "file_extension": ".py",
   "mimetype": "text/x-python",
   "name": "python",
   "nbconvert_exporter": "python",
   "pygments_lexer": "ipython3",
   "version": "3.8.10"
  }
 },
 "nbformat": 4,
 "nbformat_minor": 5
}
