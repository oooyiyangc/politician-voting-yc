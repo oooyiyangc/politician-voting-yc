{
 "cells": [
  {
   "cell_type": "markdown",
   "id": "d759470b",
   "metadata": {},
   "source": [
    "# Merge Sustainalytics-BS and Tayla's Pollution Data"
   ]
  },
  {
   "cell_type": "code",
   "execution_count": 1,
   "id": "93ae08e1",
   "metadata": {},
   "outputs": [],
   "source": [
    "import numpy as np\n",
    "import pandas as pd\n",
    "import matplotlib.pyplot as plt\n",
    "import seaborn as sns"
   ]
  },
  {
   "cell_type": "markdown",
   "id": "ba001f74",
   "metadata": {},
   "source": [
    "## Import and Prepare Data"
   ]
  },
  {
   "cell_type": "markdown",
   "id": "ffae503f",
   "metadata": {},
   "source": [
    "#### Mina's Sustainalytics-BS Merged Data"
   ]
  },
  {
   "cell_type": "code",
   "execution_count": 2,
   "id": "9bf9f3c1",
   "metadata": {},
   "outputs": [],
   "source": [
    "sa_bs_columns = [\"LPERMNO\", \"total_esg_score\", \"environment_score\", \"evtdate\", \"sell\", \"amountE\", \"icpsr_id\"]"
   ]
  },
  {
   "cell_type": "code",
   "execution_count": 3,
   "id": "183acf43",
   "metadata": {},
   "outputs": [
    {
     "data": {
      "text/html": [
       "<div>\n",
       "<style scoped>\n",
       "    .dataframe tbody tr th:only-of-type {\n",
       "        vertical-align: middle;\n",
       "    }\n",
       "\n",
       "    .dataframe tbody tr th {\n",
       "        vertical-align: top;\n",
       "    }\n",
       "\n",
       "    .dataframe thead th {\n",
       "        text-align: right;\n",
       "    }\n",
       "</style>\n",
       "<table border=\"1\" class=\"dataframe\">\n",
       "  <thead>\n",
       "    <tr style=\"text-align: right;\">\n",
       "      <th></th>\n",
       "      <th>LPERMNO</th>\n",
       "      <th>total_esg_score</th>\n",
       "      <th>environment_score</th>\n",
       "      <th>evtdate</th>\n",
       "      <th>sell</th>\n",
       "      <th>amountE</th>\n",
       "      <th>icpsr_id</th>\n",
       "    </tr>\n",
       "  </thead>\n",
       "  <tbody>\n",
       "    <tr>\n",
       "      <th>2</th>\n",
       "      <td>21020</td>\n",
       "      <td>55.29</td>\n",
       "      <td>44.32</td>\n",
       "      <td>2019-06-24</td>\n",
       "      <td>1.0</td>\n",
       "      <td>1000.0</td>\n",
       "      <td>20748.0</td>\n",
       "    </tr>\n",
       "    <tr>\n",
       "      <th>6</th>\n",
       "      <td>21020</td>\n",
       "      <td>55.24</td>\n",
       "      <td>44.19</td>\n",
       "      <td>2020-06-11</td>\n",
       "      <td>0.0</td>\n",
       "      <td>1000.0</td>\n",
       "      <td>21128.0</td>\n",
       "    </tr>\n",
       "    <tr>\n",
       "      <th>7</th>\n",
       "      <td>21020</td>\n",
       "      <td>55.24</td>\n",
       "      <td>44.19</td>\n",
       "      <td>2020-07-02</td>\n",
       "      <td>1.0</td>\n",
       "      <td>8000.5</td>\n",
       "      <td>14852.0</td>\n",
       "    </tr>\n",
       "    <tr>\n",
       "      <th>10</th>\n",
       "      <td>21020</td>\n",
       "      <td>55.24</td>\n",
       "      <td>44.19</td>\n",
       "      <td>2020-06-09</td>\n",
       "      <td>0.0</td>\n",
       "      <td>1000.0</td>\n",
       "      <td>21128.0</td>\n",
       "    </tr>\n",
       "    <tr>\n",
       "      <th>11</th>\n",
       "      <td>21020</td>\n",
       "      <td>55.24</td>\n",
       "      <td>44.19</td>\n",
       "      <td>2020-06-30</td>\n",
       "      <td>0.0</td>\n",
       "      <td>8000.5</td>\n",
       "      <td>14852.0</td>\n",
       "    </tr>\n",
       "    <tr>\n",
       "      <th>...</th>\n",
       "      <td>...</td>\n",
       "      <td>...</td>\n",
       "      <td>...</td>\n",
       "      <td>...</td>\n",
       "      <td>...</td>\n",
       "      <td>...</td>\n",
       "      <td>...</td>\n",
       "    </tr>\n",
       "    <tr>\n",
       "      <th>54200</th>\n",
       "      <td>14406</td>\n",
       "      <td>50.26</td>\n",
       "      <td>44.85</td>\n",
       "      <td>2020-04-02</td>\n",
       "      <td>0.0</td>\n",
       "      <td>15000.0</td>\n",
       "      <td>21751.0</td>\n",
       "    </tr>\n",
       "    <tr>\n",
       "      <th>54201</th>\n",
       "      <td>14406</td>\n",
       "      <td>50.26</td>\n",
       "      <td>44.85</td>\n",
       "      <td>2020-04-03</td>\n",
       "      <td>0.0</td>\n",
       "      <td>1000.0</td>\n",
       "      <td>21751.0</td>\n",
       "    </tr>\n",
       "    <tr>\n",
       "      <th>54206</th>\n",
       "      <td>14297</td>\n",
       "      <td>55.82</td>\n",
       "      <td>50.00</td>\n",
       "      <td>2016-12-06</td>\n",
       "      <td>1.0</td>\n",
       "      <td>1000.0</td>\n",
       "      <td>21165.0</td>\n",
       "    </tr>\n",
       "    <tr>\n",
       "      <th>54208</th>\n",
       "      <td>14297</td>\n",
       "      <td>57.45</td>\n",
       "      <td>54.84</td>\n",
       "      <td>2017-12-11</td>\n",
       "      <td>0.0</td>\n",
       "      <td>1000.0</td>\n",
       "      <td>15446.0</td>\n",
       "    </tr>\n",
       "    <tr>\n",
       "      <th>54218</th>\n",
       "      <td>16496</td>\n",
       "      <td>49.72</td>\n",
       "      <td>37.08</td>\n",
       "      <td>2017-11-03</td>\n",
       "      <td>1.0</td>\n",
       "      <td>1000.0</td>\n",
       "      <td>14009.0</td>\n",
       "    </tr>\n",
       "  </tbody>\n",
       "</table>\n",
       "<p>39821 rows × 7 columns</p>\n",
       "</div>"
      ],
      "text/plain": [
       "       LPERMNO  total_esg_score  environment_score     evtdate  sell  amountE  \\\n",
       "2        21020            55.29              44.32  2019-06-24   1.0   1000.0   \n",
       "6        21020            55.24              44.19  2020-06-11   0.0   1000.0   \n",
       "7        21020            55.24              44.19  2020-07-02   1.0   8000.5   \n",
       "10       21020            55.24              44.19  2020-06-09   0.0   1000.0   \n",
       "11       21020            55.24              44.19  2020-06-30   0.0   8000.5   \n",
       "...        ...              ...                ...         ...   ...      ...   \n",
       "54200    14406            50.26              44.85  2020-04-02   0.0  15000.0   \n",
       "54201    14406            50.26              44.85  2020-04-03   0.0   1000.0   \n",
       "54206    14297            55.82              50.00  2016-12-06   1.0   1000.0   \n",
       "54208    14297            57.45              54.84  2017-12-11   0.0   1000.0   \n",
       "54218    16496            49.72              37.08  2017-11-03   1.0   1000.0   \n",
       "\n",
       "       icpsr_id  \n",
       "2       20748.0  \n",
       "6       21128.0  \n",
       "7       14852.0  \n",
       "10      21128.0  \n",
       "11      14852.0  \n",
       "...         ...  \n",
       "54200   21751.0  \n",
       "54201   21751.0  \n",
       "54206   21165.0  \n",
       "54208   15446.0  \n",
       "54218   14009.0  \n",
       "\n",
       "[39821 rows x 7 columns]"
      ]
     },
     "execution_count": 3,
     "metadata": {},
     "output_type": "execute_result"
    }
   ],
   "source": [
    "sa_bs = pd.read_csv(\"../data/minas_esg/sustainalytics_bs_merge.csv\", encoding=\"latin-1\")[sa_bs_columns]\\\n",
    "        .dropna(subset=[\"icpsr_id\", \"amountE\"])\n",
    "sa_bs"
   ]
  },
  {
   "cell_type": "markdown",
   "id": "af500b07",
   "metadata": {},
   "source": [
    "#### Calculate the average ESG scores weighted by absolute transaction amount\n",
    "Note: this does not account for buy vs sell. "
   ]
  },
  {
   "cell_type": "code",
   "execution_count": 4,
   "id": "5fba6fed",
   "metadata": {},
   "outputs": [],
   "source": [
    "weighted_total_esg = sa_bs.groupby(\"icpsr_id\")[[\"amountE\", \"total_esg_score\"]].apply(lambda x: sum(x[\"amountE\"] * x[\"total_esg_score\"]) / sum(x[\"amountE\"]))"
   ]
  },
  {
   "cell_type": "code",
   "execution_count": 5,
   "id": "b11e2d28",
   "metadata": {},
   "outputs": [],
   "source": [
    "sa_bs_env = sa_bs.dropna(subset=\"environment_score\")\n",
    "weighted_env_esg = sa_bs_env.groupby(\"icpsr_id\")[[\"amountE\", \"environment_score\"]].apply(lambda x: sum(x[\"amountE\"] * x[\"environment_score\"]) / sum(x[\"amountE\"]))"
   ]
  },
  {
   "cell_type": "code",
   "execution_count": 6,
   "id": "6f15a9ce",
   "metadata": {},
   "outputs": [
    {
     "data": {
      "text/html": [
       "<div>\n",
       "<style scoped>\n",
       "    .dataframe tbody tr th:only-of-type {\n",
       "        vertical-align: middle;\n",
       "    }\n",
       "\n",
       "    .dataframe tbody tr th {\n",
       "        vertical-align: top;\n",
       "    }\n",
       "\n",
       "    .dataframe thead th {\n",
       "        text-align: right;\n",
       "    }\n",
       "</style>\n",
       "<table border=\"1\" class=\"dataframe\">\n",
       "  <thead>\n",
       "    <tr style=\"text-align: right;\">\n",
       "      <th></th>\n",
       "      <th>icpsr_id</th>\n",
       "      <th>total_esg_score</th>\n",
       "      <th>environment_score</th>\n",
       "    </tr>\n",
       "  </thead>\n",
       "  <tbody>\n",
       "    <tr>\n",
       "      <th>0</th>\n",
       "      <td>14009.0</td>\n",
       "      <td>57.395396</td>\n",
       "      <td>56.302638</td>\n",
       "    </tr>\n",
       "    <tr>\n",
       "      <th>1</th>\n",
       "      <td>14503.0</td>\n",
       "      <td>61.319344</td>\n",
       "      <td>60.391949</td>\n",
       "    </tr>\n",
       "    <tr>\n",
       "      <th>2</th>\n",
       "      <td>14657.0</td>\n",
       "      <td>71.822024</td>\n",
       "      <td>80.439376</td>\n",
       "    </tr>\n",
       "    <tr>\n",
       "      <th>3</th>\n",
       "      <td>14852.0</td>\n",
       "      <td>57.436103</td>\n",
       "      <td>59.786064</td>\n",
       "    </tr>\n",
       "    <tr>\n",
       "      <th>4</th>\n",
       "      <td>14854.0</td>\n",
       "      <td>62.990380</td>\n",
       "      <td>62.513241</td>\n",
       "    </tr>\n",
       "    <tr>\n",
       "      <th>...</th>\n",
       "      <td>...</td>\n",
       "      <td>...</td>\n",
       "      <td>...</td>\n",
       "    </tr>\n",
       "    <tr>\n",
       "      <th>219</th>\n",
       "      <td>41706.0</td>\n",
       "      <td>50.241729</td>\n",
       "      <td>55.447933</td>\n",
       "    </tr>\n",
       "    <tr>\n",
       "      <th>220</th>\n",
       "      <td>49300.0</td>\n",
       "      <td>55.431393</td>\n",
       "      <td>58.318163</td>\n",
       "    </tr>\n",
       "    <tr>\n",
       "      <th>221</th>\n",
       "      <td>49703.0</td>\n",
       "      <td>73.542892</td>\n",
       "      <td>69.689336</td>\n",
       "    </tr>\n",
       "    <tr>\n",
       "      <th>222</th>\n",
       "      <td>49706.0</td>\n",
       "      <td>57.240000</td>\n",
       "      <td>49.000000</td>\n",
       "    </tr>\n",
       "    <tr>\n",
       "      <th>223</th>\n",
       "      <td>94659.0</td>\n",
       "      <td>63.500000</td>\n",
       "      <td>66.500000</td>\n",
       "    </tr>\n",
       "  </tbody>\n",
       "</table>\n",
       "<p>224 rows × 3 columns</p>\n",
       "</div>"
      ],
      "text/plain": [
       "     icpsr_id  total_esg_score  environment_score\n",
       "0     14009.0        57.395396          56.302638\n",
       "1     14503.0        61.319344          60.391949\n",
       "2     14657.0        71.822024          80.439376\n",
       "3     14852.0        57.436103          59.786064\n",
       "4     14854.0        62.990380          62.513241\n",
       "..        ...              ...                ...\n",
       "219   41706.0        50.241729          55.447933\n",
       "220   49300.0        55.431393          58.318163\n",
       "221   49703.0        73.542892          69.689336\n",
       "222   49706.0        57.240000          49.000000\n",
       "223   94659.0        63.500000          66.500000\n",
       "\n",
       "[224 rows x 3 columns]"
      ]
     },
     "execution_count": 6,
     "metadata": {},
     "output_type": "execute_result"
    }
   ],
   "source": [
    "weigted_esg = pd.DataFrame({\"total_esg_score\": weighted_total_esg, \"environment_score\": weighted_env_esg}).reset_index()\n",
    "weigted_esg "
   ]
  },
  {
   "cell_type": "markdown",
   "id": "b33541c7",
   "metadata": {},
   "source": [
    "#### Talya's Pollution Data"
   ]
  },
  {
   "cell_type": "code",
   "execution_count": 7,
   "id": "e76142af",
   "metadata": {},
   "outputs": [
    {
     "data": {
      "text/html": [
       "<div>\n",
       "<style scoped>\n",
       "    .dataframe tbody tr th:only-of-type {\n",
       "        vertical-align: middle;\n",
       "    }\n",
       "\n",
       "    .dataframe tbody tr th {\n",
       "        vertical-align: top;\n",
       "    }\n",
       "\n",
       "    .dataframe thead th {\n",
       "        text-align: right;\n",
       "    }\n",
       "</style>\n",
       "<table border=\"1\" class=\"dataframe\">\n",
       "  <thead>\n",
       "    <tr style=\"text-align: right;\">\n",
       "      <th></th>\n",
       "      <th>icpsr</th>\n",
       "      <th>everHighSO2</th>\n",
       "      <th>everHighCO2</th>\n",
       "      <th>everHighNOx</th>\n",
       "    </tr>\n",
       "  </thead>\n",
       "  <tbody>\n",
       "    <tr>\n",
       "      <th>0</th>\n",
       "      <td>14651</td>\n",
       "      <td>1.0</td>\n",
       "      <td>1.0</td>\n",
       "      <td>1.0</td>\n",
       "    </tr>\n",
       "    <tr>\n",
       "      <th>1</th>\n",
       "      <td>15015</td>\n",
       "      <td>0.0</td>\n",
       "      <td>0.0</td>\n",
       "      <td>0.0</td>\n",
       "    </tr>\n",
       "    <tr>\n",
       "      <th>2</th>\n",
       "      <td>15634</td>\n",
       "      <td>1.0</td>\n",
       "      <td>0.0</td>\n",
       "      <td>1.0</td>\n",
       "    </tr>\n",
       "    <tr>\n",
       "      <th>3</th>\n",
       "      <td>20105</td>\n",
       "      <td>0.0</td>\n",
       "      <td>1.0</td>\n",
       "      <td>0.0</td>\n",
       "    </tr>\n",
       "    <tr>\n",
       "      <th>4</th>\n",
       "      <td>20106</td>\n",
       "      <td>0.0</td>\n",
       "      <td>1.0</td>\n",
       "      <td>0.0</td>\n",
       "    </tr>\n",
       "    <tr>\n",
       "      <th>...</th>\n",
       "      <td>...</td>\n",
       "      <td>...</td>\n",
       "      <td>...</td>\n",
       "      <td>...</td>\n",
       "    </tr>\n",
       "    <tr>\n",
       "      <th>223</th>\n",
       "      <td>41308</td>\n",
       "      <td>1.0</td>\n",
       "      <td>0.0</td>\n",
       "      <td>0.0</td>\n",
       "    </tr>\n",
       "    <tr>\n",
       "      <th>224</th>\n",
       "      <td>41500</td>\n",
       "      <td>0.0</td>\n",
       "      <td>0.0</td>\n",
       "      <td>0.0</td>\n",
       "    </tr>\n",
       "    <tr>\n",
       "      <th>225</th>\n",
       "      <td>41503</td>\n",
       "      <td>1.0</td>\n",
       "      <td>1.0</td>\n",
       "      <td>1.0</td>\n",
       "    </tr>\n",
       "    <tr>\n",
       "      <th>226</th>\n",
       "      <td>41504</td>\n",
       "      <td>1.0</td>\n",
       "      <td>1.0</td>\n",
       "      <td>1.0</td>\n",
       "    </tr>\n",
       "    <tr>\n",
       "      <th>227</th>\n",
       "      <td>90327</td>\n",
       "      <td>0.0</td>\n",
       "      <td>0.0</td>\n",
       "      <td>0.0</td>\n",
       "    </tr>\n",
       "  </tbody>\n",
       "</table>\n",
       "<p>228 rows × 4 columns</p>\n",
       "</div>"
      ],
      "text/plain": [
       "     icpsr  everHighSO2  everHighCO2  everHighNOx\n",
       "0    14651          1.0          1.0          1.0\n",
       "1    15015          0.0          0.0          0.0\n",
       "2    15634          1.0          0.0          1.0\n",
       "3    20105          0.0          1.0          0.0\n",
       "4    20106          0.0          1.0          0.0\n",
       "..     ...          ...          ...          ...\n",
       "223  41308          1.0          0.0          0.0\n",
       "224  41500          0.0          0.0          0.0\n",
       "225  41503          1.0          1.0          1.0\n",
       "226  41504          1.0          1.0          1.0\n",
       "227  90327          0.0          0.0          0.0\n",
       "\n",
       "[228 rows x 4 columns]"
      ]
     },
     "execution_count": 7,
     "metadata": {},
     "output_type": "execute_result"
    }
   ],
   "source": [
    "pollution = pd.read_csv(\"../data/EmissionsProEnvVotes.csv\")[[\"icpsr\", \"everHighSO2\", \"everHighCO2\", \"everHighNOx\"]]\\\n",
    "            .drop_duplicates().dropna().reset_index(drop=True)\n",
    "pollution"
   ]
  },
  {
   "cell_type": "markdown",
   "id": "597584c9",
   "metadata": {},
   "source": [
    "## Merge Data"
   ]
  },
  {
   "cell_type": "code",
   "execution_count": 8,
   "id": "274ea7ac",
   "metadata": {},
   "outputs": [
    {
     "data": {
      "text/html": [
       "<div>\n",
       "<style scoped>\n",
       "    .dataframe tbody tr th:only-of-type {\n",
       "        vertical-align: middle;\n",
       "    }\n",
       "\n",
       "    .dataframe tbody tr th {\n",
       "        vertical-align: top;\n",
       "    }\n",
       "\n",
       "    .dataframe thead th {\n",
       "        text-align: right;\n",
       "    }\n",
       "</style>\n",
       "<table border=\"1\" class=\"dataframe\">\n",
       "  <thead>\n",
       "    <tr style=\"text-align: right;\">\n",
       "      <th></th>\n",
       "      <th>icpsr_id</th>\n",
       "      <th>total_esg_score</th>\n",
       "      <th>environment_score</th>\n",
       "      <th>icpsr</th>\n",
       "      <th>everHighSO2</th>\n",
       "      <th>everHighCO2</th>\n",
       "      <th>everHighNOx</th>\n",
       "    </tr>\n",
       "  </thead>\n",
       "  <tbody>\n",
       "    <tr>\n",
       "      <th>0</th>\n",
       "      <td>15015.0</td>\n",
       "      <td>58.667483</td>\n",
       "      <td>56.654585</td>\n",
       "      <td>15015</td>\n",
       "      <td>0.0</td>\n",
       "      <td>0.0</td>\n",
       "      <td>0.0</td>\n",
       "    </tr>\n",
       "    <tr>\n",
       "      <th>1</th>\n",
       "      <td>20305.0</td>\n",
       "      <td>64.177283</td>\n",
       "      <td>65.485841</td>\n",
       "      <td>20305</td>\n",
       "      <td>0.0</td>\n",
       "      <td>0.0</td>\n",
       "      <td>0.0</td>\n",
       "    </tr>\n",
       "    <tr>\n",
       "      <th>2</th>\n",
       "      <td>20316.0</td>\n",
       "      <td>49.610000</td>\n",
       "      <td>48.490000</td>\n",
       "      <td>20316</td>\n",
       "      <td>1.0</td>\n",
       "      <td>1.0</td>\n",
       "      <td>1.0</td>\n",
       "    </tr>\n",
       "    <tr>\n",
       "      <th>3</th>\n",
       "      <td>20325.0</td>\n",
       "      <td>59.000000</td>\n",
       "      <td>75.000000</td>\n",
       "      <td>20325</td>\n",
       "      <td>0.0</td>\n",
       "      <td>0.0</td>\n",
       "      <td>0.0</td>\n",
       "    </tr>\n",
       "    <tr>\n",
       "      <th>4</th>\n",
       "      <td>20342.0</td>\n",
       "      <td>54.874703</td>\n",
       "      <td>50.625334</td>\n",
       "      <td>20342</td>\n",
       "      <td>0.0</td>\n",
       "      <td>0.0</td>\n",
       "      <td>0.0</td>\n",
       "    </tr>\n",
       "  </tbody>\n",
       "</table>\n",
       "</div>"
      ],
      "text/plain": [
       "   icpsr_id  total_esg_score  environment_score  icpsr  everHighSO2  \\\n",
       "0   15015.0        58.667483          56.654585  15015          0.0   \n",
       "1   20305.0        64.177283          65.485841  20305          0.0   \n",
       "2   20316.0        49.610000          48.490000  20316          1.0   \n",
       "3   20325.0        59.000000          75.000000  20325          0.0   \n",
       "4   20342.0        54.874703          50.625334  20342          0.0   \n",
       "\n",
       "   everHighCO2  everHighNOx  \n",
       "0          0.0          0.0  \n",
       "1          0.0          0.0  \n",
       "2          1.0          1.0  \n",
       "3          0.0          0.0  \n",
       "4          0.0          0.0  "
      ]
     },
     "execution_count": 8,
     "metadata": {},
     "output_type": "execute_result"
    }
   ],
   "source": [
    "sa_bs_pollution = weigted_esg.merge(pollution, left_on=\"icpsr_id\", right_on=\"icpsr\", how=\"inner\")\n",
    "sa_bs_pollution[:5]"
   ]
  },
  {
   "cell_type": "code",
   "execution_count": null,
   "id": "5ca7503c",
   "metadata": {},
   "outputs": [],
   "source": []
  },
  {
   "cell_type": "markdown",
   "id": "3a733461",
   "metadata": {},
   "source": [
    "## Naive Visualizations"
   ]
  },
  {
   "cell_type": "markdown",
   "id": "3f839df5",
   "metadata": {},
   "source": [
    "### Total ESG Scores vs Pollution Experience"
   ]
  },
  {
   "cell_type": "code",
   "execution_count": 9,
   "id": "308c11f9",
   "metadata": {},
   "outputs": [
    {
     "data": {
      "image/png": "[encoded data removed]",
      "text/plain": [
       "<Figure size 432x288 with 1 Axes>"
      ]
     },
     "metadata": {
      "needs_background": "light"
     },
     "output_type": "display_data"
    }
   ],
   "source": [
    "sns.regplot(data=sa_bs_pollution, x=\"everHighSO2\", y=\"total_esg_score\", x_jitter=0.02);"
   ]
  },
  {
   "cell_type": "code",
   "execution_count": 10,
   "id": "e48a6c5b",
   "metadata": {},
   "outputs": [
    {
     "data": {
      "image/png": "[encoded data removed]",
      "text/plain": [
       "<Figure size 432x288 with 1 Axes>"
      ]
     },
     "metadata": {
      "needs_background": "light"
     },
     "output_type": "display_data"
    }
   ],
   "source": [
    "sns.regplot(data=sa_bs_pollution, x=\"everHighCO2\", y=\"total_esg_score\", x_jitter=0.02);"
   ]
  },
  {
   "cell_type": "code",
   "execution_count": 11,
   "id": "ce202747",
   "metadata": {},
   "outputs": [
    {
     "data": {
      "image/png": "[encoded data removed]",
      "text/plain": [
       "<Figure size 432x288 with 1 Axes>"
      ]
     },
     "metadata": {
      "needs_background": "light"
     },
     "output_type": "display_data"
    }
   ],
   "source": [
    "sns.regplot(data=sa_bs_pollution, x=\"everHighNOx\", y=\"total_esg_score\", x_jitter=0.02);"
   ]
  },
  {
   "cell_type": "markdown",
   "id": "f9bd84a7",
   "metadata": {},
   "source": [
    "### Environment Scores vs Pollution Experience"
   ]
  },
  {
   "cell_type": "code",
   "execution_count": 12,
   "id": "e9110f66",
   "metadata": {},
   "outputs": [
    {
     "data": {
      "image/png": "[encoded data removed]",
      "text/plain": [
       "<Figure size 432x288 with 1 Axes>"
      ]
     },
     "metadata": {
      "needs_background": "light"
     },
     "output_type": "display_data"
    }
   ],
   "source": [
    "sns.regplot(data=sa_bs_pollution, x=\"everHighSO2\", y=\"environment_score\", x_jitter=0.02);"
   ]
  },
  {
   "cell_type": "code",
   "execution_count": 13,
   "id": "ca9b8061",
   "metadata": {},
   "outputs": [
    {
     "data": {
      "image/png": "[encoded data removed]",
      "text/plain": [
       "<Figure size 432x288 with 1 Axes>"
      ]
     },
     "metadata": {
      "needs_background": "light"
     },
     "output_type": "display_data"
    }
   ],
   "source": [
    "sns.regplot(data=sa_bs_pollution, x=\"everHighCO2\", y=\"environment_score\", x_jitter=0.02);"
   ]
  },
  {
   "cell_type": "code",
   "execution_count": 14,
   "id": "06fb6a05",
   "metadata": {},
   "outputs": [
    {
     "data": {
      "image/png": "[encoded data removed]",
      "text/plain": [
       "<Figure size 432x288 with 1 Axes>"
      ]
     },
     "metadata": {
      "needs_background": "light"
     },
     "output_type": "display_data"
    }
   ],
   "source": [
    "sns.regplot(data=sa_bs_pollution, x=\"everHighNOx\", y=\"environment_score\", x_jitter=0.02);"
   ]
  },
  {
   "cell_type": "markdown",
   "id": "48ef538e",
   "metadata": {},
   "source": [
    "None of the above show any significant differences between politicians who experienced pollution and those did not. "
   ]
  },
  {
   "cell_type": "markdown",
   "id": "0b374848",
   "metadata": {},
   "source": [
    "Potential improvements: \n",
    "- Account for buy/sell when computing weighted average\n",
    "- Only include extreme ESG scores (because it's hard for typical people to see that a company with 70 ESG score is a more environmental responsible firm than a 69 ESG score one)"
   ]
  },
  {
   "cell_type": "code",
   "execution_count": null,
   "id": "55b278df",
   "metadata": {},
   "outputs": [],
   "source": []
  }
 ],
 "metadata": {
  "kernelspec": {
   "display_name": "Python 3 (ipykernel)",
   "language": "python",
   "name": "python3"
  },
  "language_info": {
   "codemirror_mode": {
    "name": "ipython",
    "version": 3
   },
   "file_extension": ".py",
   "mimetype": "text/x-python",
   "name": "python",
   "nbconvert_exporter": "python",
   "pygments_lexer": "ipython3",
   "version": "3.8.10"
  }
 },
 "nbformat": 4,
 "nbformat_minor": 5
}
