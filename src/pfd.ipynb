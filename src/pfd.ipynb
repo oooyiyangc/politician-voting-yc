{
 "cells": [
  {
   "cell_type": "markdown",
   "id": "b37c3ad3",
   "metadata": {},
   "source": [
    "# OpenSecrets: Personal Finance Data\n",
    "Data source: https://www.opensecrets.org/bulk-data/downloads  \n",
    "Documentations: https://www.opensecrets.org/resources/datadictionary/Data%20Dictionary%20pfd_trans.htm"
   ]
  },
  {
   "cell_type": "code",
   "execution_count": 1,
   "id": "a060292c",
   "metadata": {},
   "outputs": [],
   "source": [
    "import numpy as np\n",
    "import pandas as pd\n",
    "from datetime import datetime\n",
    "import matplotlib.pyplot as plt"
   ]
  },
  {
   "cell_type": "code",
   "execution_count": 2,
   "id": "88b022db",
   "metadata": {},
   "outputs": [
    {
     "name": "stdout",
     "output_type": "stream",
     "text": [
      "|A170015889|,|s|,|N00009888|,|17|,|Y|,|S|,|Tortoise MLP & Pipeline Instl|,|Tortoise MLP & Pipeline Fund|,||,||,||,||,||,||,||,||,|x|,| |,| |,,|09/29/2017|,|C |,,| |,|--|,|d|\n",
      "\n",
      "|A170015888|,|s|,|N00009888|,|17|,|Y|,|S|,|Vanguard Dividend Appreciation ETF|,|Vanguard Dividend Appreciation ETF|,||,||,||,||,||,||,||,||,|x|,| |,| |,,|07/19/2017|,|C |,,| |,|--|,|d|\n",
      "\n"
     ]
    }
   ],
   "source": [
    "with open(\"../data/pfd/PFDtrans.txt\") as f: \n",
    "    for _ in range(2):\n",
    "        print(f.readline())"
   ]
  },
  {
   "cell_type": "code",
   "execution_count": 3,
   "id": "47feb644",
   "metadata": {},
   "outputs": [
    {
     "name": "stderr",
     "output_type": "stream",
     "text": [
      "C:\\Users\\Yiyan\\AppData\\Local\\Programs\\Python\\Python38\\lib\\site-packages\\IPython\\core\\interactiveshell.py:3444: DtypeWarning: Columns (3,8,11,13,22,24) have mixed types.Specify dtype option on import or set low_memory=False.\n",
      "  exec(code_obj, self.user_global_ns, self.user_ns)\n"
     ]
    },
    {
     "data": {
      "text/html": [
       "<div>\n",
       "<style scoped>\n",
       "    .dataframe tbody tr th:only-of-type {\n",
       "        vertical-align: middle;\n",
       "    }\n",
       "\n",
       "    .dataframe tbody tr th {\n",
       "        vertical-align: top;\n",
       "    }\n",
       "\n",
       "    .dataframe thead th {\n",
       "        text-align: right;\n",
       "    }\n",
       "</style>\n",
       "<table border=\"1\" class=\"dataframe\">\n",
       "  <thead>\n",
       "    <tr style=\"text-align: right;\">\n",
       "      <th></th>\n",
       "      <th>ID</th>\n",
       "      <th>Chamber</th>\n",
       "      <th>CID</th>\n",
       "      <th>CalendarYear</th>\n",
       "      <th>ReportType</th>\n",
       "      <th>Asset4SJD</th>\n",
       "      <th>Asset4Transacted</th>\n",
       "      <th>Orgname</th>\n",
       "      <th>Ultorg</th>\n",
       "      <th>RealCode</th>\n",
       "      <th>...</th>\n",
       "      <th>Asset4Purchased</th>\n",
       "      <th>Asset4Sold</th>\n",
       "      <th>Asset4Exchanged</th>\n",
       "      <th>Asset4Date</th>\n",
       "      <th>Asset4DateText</th>\n",
       "      <th>Asset4TransAmt</th>\n",
       "      <th>Asset4ExactAmt</th>\n",
       "      <th>CofD</th>\n",
       "      <th>TransNotes</th>\n",
       "      <th>Dupe</th>\n",
       "    </tr>\n",
       "  </thead>\n",
       "  <tbody>\n",
       "    <tr>\n",
       "      <th>0</th>\n",
       "      <td>A170015889</td>\n",
       "      <td>s</td>\n",
       "      <td>N00009888</td>\n",
       "      <td>17</td>\n",
       "      <td>Y</td>\n",
       "      <td>S</td>\n",
       "      <td>Tortoise MLP &amp; Pipeline Instl</td>\n",
       "      <td>Tortoise MLP &amp; Pipeline Fund</td>\n",
       "      <td>NaN</td>\n",
       "      <td>NaN</td>\n",
       "      <td>...</td>\n",
       "      <td>x</td>\n",
       "      <td></td>\n",
       "      <td></td>\n",
       "      <td>NaN</td>\n",
       "      <td>09/29/2017</td>\n",
       "      <td>C</td>\n",
       "      <td>NaN</td>\n",
       "      <td></td>\n",
       "      <td>--</td>\n",
       "      <td>d</td>\n",
       "    </tr>\n",
       "    <tr>\n",
       "      <th>1</th>\n",
       "      <td>A170015888</td>\n",
       "      <td>s</td>\n",
       "      <td>N00009888</td>\n",
       "      <td>17</td>\n",
       "      <td>Y</td>\n",
       "      <td>S</td>\n",
       "      <td>Vanguard Dividend Appreciation ETF</td>\n",
       "      <td>Vanguard Dividend Appreciation ETF</td>\n",
       "      <td>NaN</td>\n",
       "      <td>NaN</td>\n",
       "      <td>...</td>\n",
       "      <td>x</td>\n",
       "      <td></td>\n",
       "      <td></td>\n",
       "      <td>NaN</td>\n",
       "      <td>07/19/2017</td>\n",
       "      <td>C</td>\n",
       "      <td>NaN</td>\n",
       "      <td></td>\n",
       "      <td>--</td>\n",
       "      <td>d</td>\n",
       "    </tr>\n",
       "    <tr>\n",
       "      <th>2</th>\n",
       "      <td>A170015887</td>\n",
       "      <td>s</td>\n",
       "      <td>N00009888</td>\n",
       "      <td>17</td>\n",
       "      <td>Y</td>\n",
       "      <td>S</td>\n",
       "      <td>UBS ETRACS Alerian MLP Infras ETN</td>\n",
       "      <td>UBS ETRACS Alerian MLP Infras ETN</td>\n",
       "      <td>NaN</td>\n",
       "      <td>NaN</td>\n",
       "      <td>...</td>\n",
       "      <td>x</td>\n",
       "      <td></td>\n",
       "      <td></td>\n",
       "      <td>NaN</td>\n",
       "      <td>07/19/2017</td>\n",
       "      <td>C</td>\n",
       "      <td>NaN</td>\n",
       "      <td></td>\n",
       "      <td>--</td>\n",
       "      <td>d</td>\n",
       "    </tr>\n",
       "    <tr>\n",
       "      <th>3</th>\n",
       "      <td>A170015886</td>\n",
       "      <td>s</td>\n",
       "      <td>N00009888</td>\n",
       "      <td>17</td>\n",
       "      <td>Y</td>\n",
       "      <td>S</td>\n",
       "      <td>Tortoise MLP &amp; Pipeline Instl</td>\n",
       "      <td>Tortoise MLP &amp; Pipeline Fund</td>\n",
       "      <td>NaN</td>\n",
       "      <td>NaN</td>\n",
       "      <td>...</td>\n",
       "      <td>x</td>\n",
       "      <td></td>\n",
       "      <td></td>\n",
       "      <td>NaN</td>\n",
       "      <td>07/17/2017</td>\n",
       "      <td>C</td>\n",
       "      <td>NaN</td>\n",
       "      <td></td>\n",
       "      <td>--</td>\n",
       "      <td>d</td>\n",
       "    </tr>\n",
       "    <tr>\n",
       "      <th>4</th>\n",
       "      <td>A170015885</td>\n",
       "      <td>s</td>\n",
       "      <td>N00009888</td>\n",
       "      <td>17</td>\n",
       "      <td>Y</td>\n",
       "      <td>S</td>\n",
       "      <td>DTC US Active Equity Common Trust Fund</td>\n",
       "      <td>DTC US Active Equity Common Trust Fund</td>\n",
       "      <td>NaN</td>\n",
       "      <td>NaN</td>\n",
       "      <td>...</td>\n",
       "      <td>x</td>\n",
       "      <td></td>\n",
       "      <td></td>\n",
       "      <td>NaN</td>\n",
       "      <td>07/07/2017</td>\n",
       "      <td>E</td>\n",
       "      <td>NaN</td>\n",
       "      <td></td>\n",
       "      <td>--</td>\n",
       "      <td>d</td>\n",
       "    </tr>\n",
       "    <tr>\n",
       "      <th>...</th>\n",
       "      <td>...</td>\n",
       "      <td>...</td>\n",
       "      <td>...</td>\n",
       "      <td>...</td>\n",
       "      <td>...</td>\n",
       "      <td>...</td>\n",
       "      <td>...</td>\n",
       "      <td>...</td>\n",
       "      <td>...</td>\n",
       "      <td>...</td>\n",
       "      <td>...</td>\n",
       "      <td>...</td>\n",
       "      <td>...</td>\n",
       "      <td>...</td>\n",
       "      <td>...</td>\n",
       "      <td>...</td>\n",
       "      <td>...</td>\n",
       "      <td>...</td>\n",
       "      <td>...</td>\n",
       "      <td>...</td>\n",
       "      <td>...</td>\n",
       "    </tr>\n",
       "    <tr>\n",
       "      <th>377663</th>\n",
       "      <td>C160015720</td>\n",
       "      <td>s</td>\n",
       "      <td>N00030245</td>\n",
       "      <td>16</td>\n",
       "      <td>A</td>\n",
       "      <td>S</td>\n",
       "      <td>Oakmark Equity And Income Investor</td>\n",
       "      <td>Oakmark Equity &amp; Income Fund</td>\n",
       "      <td>NaN</td>\n",
       "      <td>NaN</td>\n",
       "      <td>...</td>\n",
       "      <td></td>\n",
       "      <td>x</td>\n",
       "      <td></td>\n",
       "      <td>NaN</td>\n",
       "      <td>10/31/2016</td>\n",
       "      <td>B</td>\n",
       "      <td>NaN</td>\n",
       "      <td></td>\n",
       "      <td>Sale (Full)</td>\n",
       "      <td>d</td>\n",
       "    </tr>\n",
       "    <tr>\n",
       "      <th>377664</th>\n",
       "      <td>C160015719</td>\n",
       "      <td>s</td>\n",
       "      <td>N00030245</td>\n",
       "      <td>16</td>\n",
       "      <td>A</td>\n",
       "      <td>S</td>\n",
       "      <td>Oakmark Equity And Income Investor</td>\n",
       "      <td>Oakmark Equity &amp; Income Fund</td>\n",
       "      <td>NaN</td>\n",
       "      <td>NaN</td>\n",
       "      <td>...</td>\n",
       "      <td></td>\n",
       "      <td>x</td>\n",
       "      <td></td>\n",
       "      <td>NaN</td>\n",
       "      <td>03/28/2016</td>\n",
       "      <td>B</td>\n",
       "      <td>NaN</td>\n",
       "      <td></td>\n",
       "      <td>Sale (Partial)</td>\n",
       "      <td>d</td>\n",
       "    </tr>\n",
       "    <tr>\n",
       "      <th>377665</th>\n",
       "      <td>C160015718</td>\n",
       "      <td>s</td>\n",
       "      <td>N00030245</td>\n",
       "      <td>16</td>\n",
       "      <td>A</td>\n",
       "      <td>S</td>\n",
       "      <td>First Eagle Global I</td>\n",
       "      <td>First Eagle Global Fund</td>\n",
       "      <td>NaN</td>\n",
       "      <td>NaN</td>\n",
       "      <td>...</td>\n",
       "      <td></td>\n",
       "      <td>x</td>\n",
       "      <td></td>\n",
       "      <td>NaN</td>\n",
       "      <td>10/31/2016</td>\n",
       "      <td>B</td>\n",
       "      <td>NaN</td>\n",
       "      <td></td>\n",
       "      <td>Sale (Partial)</td>\n",
       "      <td>d</td>\n",
       "    </tr>\n",
       "    <tr>\n",
       "      <th>377666</th>\n",
       "      <td>C160015717</td>\n",
       "      <td>s</td>\n",
       "      <td>N00030245</td>\n",
       "      <td>16</td>\n",
       "      <td>A</td>\n",
       "      <td>S</td>\n",
       "      <td>First Eagle Global I</td>\n",
       "      <td>First Eagle Global Fund</td>\n",
       "      <td>NaN</td>\n",
       "      <td>NaN</td>\n",
       "      <td>...</td>\n",
       "      <td></td>\n",
       "      <td>x</td>\n",
       "      <td></td>\n",
       "      <td>NaN</td>\n",
       "      <td>03/28/2016</td>\n",
       "      <td>B</td>\n",
       "      <td>NaN</td>\n",
       "      <td></td>\n",
       "      <td>Sale (Partial)</td>\n",
       "      <td>d</td>\n",
       "    </tr>\n",
       "    <tr>\n",
       "      <th>377667</th>\n",
       "      <td>C160015716</td>\n",
       "      <td>s</td>\n",
       "      <td>N00030245</td>\n",
       "      <td>16</td>\n",
       "      <td>A</td>\n",
       "      <td>S</td>\n",
       "      <td>IVA Worldwide I</td>\n",
       "      <td>IVA Worldwide I</td>\n",
       "      <td>NaN</td>\n",
       "      <td>NaN</td>\n",
       "      <td>...</td>\n",
       "      <td></td>\n",
       "      <td>x</td>\n",
       "      <td></td>\n",
       "      <td>NaN</td>\n",
       "      <td>10/31/2016</td>\n",
       "      <td>B</td>\n",
       "      <td>NaN</td>\n",
       "      <td></td>\n",
       "      <td>Sale (Partial)</td>\n",
       "      <td>d</td>\n",
       "    </tr>\n",
       "  </tbody>\n",
       "</table>\n",
       "<p>377668 rows × 26 columns</p>\n",
       "</div>"
      ],
      "text/plain": [
       "                ID Chamber        CID CalendarYear ReportType Asset4SJD  \\\n",
       "0       A170015889       s  N00009888           17          Y         S   \n",
       "1       A170015888       s  N00009888           17          Y         S   \n",
       "2       A170015887       s  N00009888           17          Y         S   \n",
       "3       A170015886       s  N00009888           17          Y         S   \n",
       "4       A170015885       s  N00009888           17          Y         S   \n",
       "...            ...     ...        ...          ...        ...       ...   \n",
       "377663  C160015720       s  N00030245           16          A         S   \n",
       "377664  C160015719       s  N00030245           16          A         S   \n",
       "377665  C160015718       s  N00030245           16          A         S   \n",
       "377666  C160015717       s  N00030245           16          A         S   \n",
       "377667  C160015716       s  N00030245           16          A         S   \n",
       "\n",
       "                              Asset4Transacted  \\\n",
       "0                Tortoise MLP & Pipeline Instl   \n",
       "1           Vanguard Dividend Appreciation ETF   \n",
       "2            UBS ETRACS Alerian MLP Infras ETN   \n",
       "3                Tortoise MLP & Pipeline Instl   \n",
       "4       DTC US Active Equity Common Trust Fund   \n",
       "...                                        ...   \n",
       "377663      Oakmark Equity And Income Investor   \n",
       "377664      Oakmark Equity And Income Investor   \n",
       "377665                    First Eagle Global I   \n",
       "377666                    First Eagle Global I   \n",
       "377667                         IVA Worldwide I   \n",
       "\n",
       "                                       Orgname Ultorg RealCode  ...  \\\n",
       "0                 Tortoise MLP & Pipeline Fund    NaN      NaN  ...   \n",
       "1           Vanguard Dividend Appreciation ETF    NaN      NaN  ...   \n",
       "2            UBS ETRACS Alerian MLP Infras ETN    NaN      NaN  ...   \n",
       "3                 Tortoise MLP & Pipeline Fund    NaN      NaN  ...   \n",
       "4       DTC US Active Equity Common Trust Fund    NaN      NaN  ...   \n",
       "...                                        ...    ...      ...  ...   \n",
       "377663            Oakmark Equity & Income Fund    NaN      NaN  ...   \n",
       "377664            Oakmark Equity & Income Fund    NaN      NaN  ...   \n",
       "377665                 First Eagle Global Fund    NaN      NaN  ...   \n",
       "377666                 First Eagle Global Fund    NaN      NaN  ...   \n",
       "377667                         IVA Worldwide I    NaN      NaN  ...   \n",
       "\n",
       "       Asset4Purchased Asset4Sold Asset4Exchanged Asset4Date Asset4DateText  \\\n",
       "0                    x                                   NaN     09/29/2017   \n",
       "1                    x                                   NaN     07/19/2017   \n",
       "2                    x                                   NaN     07/19/2017   \n",
       "3                    x                                   NaN     07/17/2017   \n",
       "4                    x                                   NaN     07/07/2017   \n",
       "...                ...        ...             ...        ...            ...   \n",
       "377663                          x                        NaN     10/31/2016   \n",
       "377664                          x                        NaN     03/28/2016   \n",
       "377665                          x                        NaN     10/31/2016   \n",
       "377666                          x                        NaN     03/28/2016   \n",
       "377667                          x                        NaN     10/31/2016   \n",
       "\n",
       "       Asset4TransAmt Asset4ExactAmt CofD      TransNotes Dupe  \n",
       "0                  C             NaN                   --    d  \n",
       "1                  C             NaN                   --    d  \n",
       "2                  C             NaN                   --    d  \n",
       "3                  C             NaN                   --    d  \n",
       "4                  E             NaN                   --    d  \n",
       "...               ...            ...  ...             ...  ...  \n",
       "377663             B             NaN          Sale (Full)    d  \n",
       "377664             B             NaN       Sale (Partial)    d  \n",
       "377665             B             NaN       Sale (Partial)    d  \n",
       "377666             B             NaN       Sale (Partial)    d  \n",
       "377667             B             NaN       Sale (Partial)    d  \n",
       "\n",
       "[377668 rows x 26 columns]"
      ]
     },
     "execution_count": 3,
     "metadata": {},
     "output_type": "execute_result"
    }
   ],
   "source": [
    "pfd_colnames=['ID', 'Chamber', 'CID', 'CalendarYear', 'ReportType', 'Asset4SJD', 'Asset4Transacted', 'Orgname', 'Ultorg', 'RealCode', 'Source', 'Asset4Descrip', 'Orgname2', 'Ultorg2', 'RealCode2', 'Source2', 'Asset4Purchased', 'Asset4Sold', 'Asset4Exchanged', 'Asset4Date', 'Asset4DateText', 'Asset4TransAmt', 'Asset4ExactAmt', 'CofD', 'TransNotes', 'Dupe'] \n",
    "pfd = pd.read_csv(\"../data/pfd/PFDtrans_test.txt\", encoding=\"latin-1\", sep=\"\\t\", names=pfd_colnames, header=None)\n",
    "pfd"
   ]
  },
  {
   "cell_type": "code",
   "execution_count": null,
   "id": "69cb8faa",
   "metadata": {},
   "outputs": [],
   "source": []
  },
  {
   "cell_type": "code",
   "execution_count": 4,
   "id": "25d80d74",
   "metadata": {},
   "outputs": [],
   "source": [
    "def process_date_text(text):\n",
    "    if type(text) == float:\n",
    "        return np.nan\n",
    "    else:\n",
    "        try: \n",
    "            return datetime.strptime(text, '%m/%d/%Y')\n",
    "        except: \n",
    "            return np.nan\n",
    "v_process_date_text = np.vectorize(process_date_text)"
   ]
  },
  {
   "cell_type": "code",
   "execution_count": 5,
   "id": "69702ebb",
   "metadata": {},
   "outputs": [
    {
     "data": {
      "text/plain": [
       "array([datetime.datetime(2017, 9, 29, 0, 0),\n",
       "       datetime.datetime(2017, 7, 19, 0, 0),\n",
       "       datetime.datetime(2017, 7, 19, 0, 0), ...,\n",
       "       datetime.datetime(2016, 10, 31, 0, 0),\n",
       "       datetime.datetime(2016, 3, 28, 0, 0),\n",
       "       datetime.datetime(2016, 10, 31, 0, 0)], dtype=object)"
      ]
     },
     "execution_count": 5,
     "metadata": {},
     "output_type": "execute_result"
    }
   ],
   "source": [
    "datetime_lst = v_process_date_text(pfd[\"Asset4DateText\"])\n",
    "datetime_lst"
   ]
  },
  {
   "cell_type": "code",
   "execution_count": 6,
   "id": "de5054cf",
   "metadata": {},
   "outputs": [
    {
     "data": {
      "text/plain": [
       "377668"
      ]
     },
     "execution_count": 6,
     "metadata": {},
     "output_type": "execute_result"
    }
   ],
   "source": [
    "len(datetime_lst)"
   ]
  },
  {
   "cell_type": "code",
   "execution_count": 7,
   "id": "987568ba",
   "metadata": {},
   "outputs": [
    {
     "data": {
      "text/plain": [
       "datetime.datetime(2107, 4, 12, 0, 0)"
      ]
     },
     "execution_count": 7,
     "metadata": {},
     "output_type": "execute_result"
    }
   ],
   "source": [
    "max(datetime_lst[~pd.isnull(datetime_lst)]) # obvious data entry error"
   ]
  },
  {
   "cell_type": "code",
   "execution_count": 8,
   "id": "ff7e470c",
   "metadata": {},
   "outputs": [
    {
     "data": {
      "text/plain": [
       "datetime.datetime(1931, 6, 1, 0, 0)"
      ]
     },
     "execution_count": 8,
     "metadata": {},
     "output_type": "execute_result"
    }
   ],
   "source": [
    "min(datetime_lst[~pd.isnull(datetime_lst)])"
   ]
  },
  {
   "cell_type": "code",
   "execution_count": 9,
   "id": "1b41d58e",
   "metadata": {},
   "outputs": [
    {
     "data": {
      "image/png": "[encoded data removed]",
      "text/plain": [
       "<Figure size 432x288 with 1 Axes>"
      ]
     },
     "metadata": {
      "needs_background": "light"
     },
     "output_type": "display_data"
    }
   ],
   "source": [
    "plt.hist(datetime_lst[~pd.isnull(datetime_lst)], bins=100);"
   ]
  },
  {
   "cell_type": "code",
   "execution_count": 10,
   "id": "88de152c",
   "metadata": {},
   "outputs": [
    {
     "data": {
      "image/png": "[encoded data removed]",
      "text/plain": [
       "<Figure size 432x288 with 1 Axes>"
      ]
     },
     "metadata": {
      "needs_background": "light"
     },
     "output_type": "display_data"
    }
   ],
   "source": [
    "plt.hist(datetime_lst[~pd.isnull(datetime_lst)], range=[datetime(2000, 1, 1, 0, 0), datetime(2022, 12, 31, 0, 0)], bins=100);"
   ]
  },
  {
   "cell_type": "code",
   "execution_count": null,
   "id": "9c030042",
   "metadata": {},
   "outputs": [],
   "source": []
  },
  {
   "cell_type": "code",
   "execution_count": null,
   "id": "788ec4a0",
   "metadata": {},
   "outputs": [],
   "source": []
  },
  {
   "cell_type": "markdown",
   "id": "7c682c1e",
   "metadata": {},
   "source": [
    "### Debug"
   ]
  },
  {
   "cell_type": "code",
   "execution_count": 11,
   "id": "231d4f19",
   "metadata": {},
   "outputs": [
    {
     "data": {
      "text/plain": [
       "datetime.datetime(2017, 9, 29, 0, 0)"
      ]
     },
     "execution_count": 11,
     "metadata": {},
     "output_type": "execute_result"
    }
   ],
   "source": [
    "datetime.strptime(pfd[\"Asset4DateText\"][0], '%m/%d/%Y')"
   ]
  },
  {
   "cell_type": "code",
   "execution_count": 12,
   "id": "15cf2aba",
   "metadata": {},
   "outputs": [
    {
     "name": "stdout",
     "output_type": "stream",
     "text": [
      "62 nan\n",
      "63 nan\n",
      "64 nan\n",
      "65 nan\n",
      "66 nan\n",
      "67 nan\n",
      "68 nan\n",
      "69 nan\n",
      "70 nan\n",
      "100 nan\n",
      "106 nan\n",
      "107 nan\n",
      "108 nan\n",
      "109 nan\n",
      "110 nan\n",
      "111 nan\n",
      "180 nan\n",
      "187 nan\n",
      "188 nan\n",
      "189 nan\n",
      "190 nan\n",
      "191 nan\n",
      "192 nan\n",
      "193 nan\n",
      "194 nan\n",
      "195 nan\n",
      "196 nan\n",
      "197 nan\n",
      "198 nan\n",
      "199 nan\n"
     ]
    }
   ],
   "source": [
    "for i in np.arange(len(pfd)):\n",
    "    if type(pfd[\"Asset4DateText\"][i]) == float:\n",
    "        print(i, pfd[\"Asset4DateText\"][i])\n",
    "    if i > 200:\n",
    "        break;"
   ]
  },
  {
   "cell_type": "code",
   "execution_count": 13,
   "id": "76922adc",
   "metadata": {},
   "outputs": [
    {
     "data": {
      "text/plain": [
       "ID                                                         A180015548\n",
       "Chamber                                                             s\n",
       "CID                                                         N00001955\n",
       "CalendarYear                                                       18\n",
       "ReportType                                                          Y\n",
       "Asset4SJD                                                           J\n",
       "Asset4Transacted     Meyer M. Cardin Trust - Montgomery Co., Md. Bond\n",
       "Orgname                                          Meyer M Cardin Trust\n",
       "Ultorg                                                            NaN\n",
       "RealCode                                                          NaN\n",
       "Source                                                            NaN\n",
       "Asset4Descrip                                                     NaN\n",
       "Orgname2                                     Montgomery CN MD Go Bond\n",
       "Ultorg2                                                           NaN\n",
       "RealCode2                                                         NaN\n",
       "Source2                                                           NaN\n",
       "Asset4Purchased                                                      \n",
       "Asset4Sold                                                          x\n",
       "Asset4Exchanged                                ,08/01/2018,08/01/2018\n",
       "Asset4Date                                                         C \n",
       "Asset4DateText                                                    NaN\n",
       "Asset4TransAmt                                                       \n",
       "Asset4ExactAmt      Sale (Full); called by issuer under terms of bond\n",
       "CofD                                                                d\n",
       "TransNotes                                                        NaN\n",
       "Dupe                                                              NaN\n",
       "Name: 100, dtype: object"
      ]
     },
     "execution_count": 13,
     "metadata": {},
     "output_type": "execute_result"
    }
   ],
   "source": [
    "pfd.iloc[100]"
   ]
  },
  {
   "cell_type": "code",
   "execution_count": 14,
   "id": "dd01e307",
   "metadata": {},
   "outputs": [
    {
     "ename": "TypeError",
     "evalue": "strptime() argument 1 must be str, not float",
     "output_type": "error",
     "traceback": [
      "\u001b[1;31m---------------------------------------------------------------------------\u001b[0m",
      "\u001b[1;31mTypeError\u001b[0m                                 Traceback (most recent call last)",
      "\u001b[1;32m~\\AppData\\Local\\Temp/ipykernel_37828/3831879960.py\u001b[0m in \u001b[0;36m<module>\u001b[1;34m\u001b[0m\n\u001b[1;32m----> 1\u001b[1;33m \u001b[0mpfd\u001b[0m\u001b[1;33m[\u001b[0m\u001b[1;34m\"Asset4Date\"\u001b[0m\u001b[1;33m]\u001b[0m \u001b[1;33m=\u001b[0m \u001b[0mlist\u001b[0m\u001b[1;33m(\u001b[0m\u001b[0mmap\u001b[0m\u001b[1;33m(\u001b[0m\u001b[1;32mlambda\u001b[0m \u001b[0mx\u001b[0m\u001b[1;33m:\u001b[0m \u001b[0mdatetime\u001b[0m\u001b[1;33m.\u001b[0m\u001b[0mstrptime\u001b[0m\u001b[1;33m(\u001b[0m\u001b[0mx\u001b[0m\u001b[1;33m,\u001b[0m \u001b[1;34m'%m/%d/%Y'\u001b[0m\u001b[1;33m)\u001b[0m\u001b[1;33m,\u001b[0m \u001b[0mpfd\u001b[0m\u001b[1;33m[\u001b[0m\u001b[1;34m\"Asset4DateText\"\u001b[0m\u001b[1;33m]\u001b[0m\u001b[1;33m)\u001b[0m\u001b[1;33m)\u001b[0m\u001b[1;33m\u001b[0m\u001b[1;33m\u001b[0m\u001b[0m\n\u001b[0m",
      "\u001b[1;32m~\\AppData\\Local\\Temp/ipykernel_37828/3831879960.py\u001b[0m in \u001b[0;36m<lambda>\u001b[1;34m(x)\u001b[0m\n\u001b[1;32m----> 1\u001b[1;33m \u001b[0mpfd\u001b[0m\u001b[1;33m[\u001b[0m\u001b[1;34m\"Asset4Date\"\u001b[0m\u001b[1;33m]\u001b[0m \u001b[1;33m=\u001b[0m \u001b[0mlist\u001b[0m\u001b[1;33m(\u001b[0m\u001b[0mmap\u001b[0m\u001b[1;33m(\u001b[0m\u001b[1;32mlambda\u001b[0m \u001b[0mx\u001b[0m\u001b[1;33m:\u001b[0m \u001b[0mdatetime\u001b[0m\u001b[1;33m.\u001b[0m\u001b[0mstrptime\u001b[0m\u001b[1;33m(\u001b[0m\u001b[0mx\u001b[0m\u001b[1;33m,\u001b[0m \u001b[1;34m'%m/%d/%Y'\u001b[0m\u001b[1;33m)\u001b[0m\u001b[1;33m,\u001b[0m \u001b[0mpfd\u001b[0m\u001b[1;33m[\u001b[0m\u001b[1;34m\"Asset4DateText\"\u001b[0m\u001b[1;33m]\u001b[0m\u001b[1;33m)\u001b[0m\u001b[1;33m)\u001b[0m\u001b[1;33m\u001b[0m\u001b[1;33m\u001b[0m\u001b[0m\n\u001b[0m",
      "\u001b[1;31mTypeError\u001b[0m: strptime() argument 1 must be str, not float"
     ]
    }
   ],
   "source": [
    "pfd[\"Asset4Date\"] = list(map(lambda x: datetime.strptime(x, '%m/%d/%Y'), pfd[\"Asset4DateText\"]))"
   ]
  },
  {
   "cell_type": "code",
   "execution_count": null,
   "id": "0ec7a957",
   "metadata": {},
   "outputs": [],
   "source": [
    "list(map(lambda x: datetime.strptime(x, '%m/%d/%Y'), pfd[\"Asset4DateText\"]))"
   ]
  },
  {
   "cell_type": "code",
   "execution_count": null,
   "id": "9974fff4",
   "metadata": {},
   "outputs": [],
   "source": []
  }
 ],
 "metadata": {
  "kernelspec": {
   "display_name": "Python 3 (ipykernel)",
   "language": "python",
   "name": "python3"
  },
  "language_info": {
   "codemirror_mode": {
    "name": "ipython",
    "version": 3
   },
   "file_extension": ".py",
   "mimetype": "text/x-python",
   "name": "python",
   "nbconvert_exporter": "python",
   "pygments_lexer": "ipython3",
   "version": "3.8.10"
  }
 },
 "nbformat": 4,
 "nbformat_minor": 5
}
