{
 "cells": [
  {
   "cell_type": "code",
   "execution_count": null,
   "id": "92ac04ae",
   "metadata": {},
   "outputs": [],
   "source": []
  },
  {
   "cell_type": "code",
   "execution_count": 1,
   "id": "81c17c6e",
   "metadata": {},
   "outputs": [],
   "source": [
    "import os\n",
    "import numpy as np\n",
    "import pandas as pd\n",
    "import matplotlib.pyplot as plt\n",
    "import seaborn as sns"
   ]
  },
  {
   "cell_type": "code",
   "execution_count": 2,
   "id": "501e5bd9",
   "metadata": {},
   "outputs": [],
   "source": [
    "def count_files(dir_path):\n",
    "    count = 0\n",
    "    # Iterate directory\n",
    "    for path in os.listdir(dir_path):\n",
    "        # check if current path is a file\n",
    "        if os.path.isfile(os.path.join(dir_path, path)):\n",
    "            count += 1\n",
    "    return count"
   ]
  },
  {
   "cell_type": "code",
   "execution_count": 3,
   "id": "3f884b4b",
   "metadata": {},
   "outputs": [
    {
     "data": {
      "text/plain": [
       "7"
      ]
     },
     "execution_count": 3,
     "metadata": {},
     "output_type": "execute_result"
    }
   ],
   "source": [
    "count_files('./')"
   ]
  },
  {
   "cell_type": "code",
   "execution_count": 4,
   "id": "51739e27",
   "metadata": {},
   "outputs": [],
   "source": [
    "def count_directories(root_path):\n",
    "    count = 0\n",
    "    # Iterate directory\n",
    "    for path in os.listdir(root_path):\n",
    "        # check if current path is a file\n",
    "        if os.path.isdir(os.path.join(root_path, path)):\n",
    "            count += 1\n",
    "    return count"
   ]
  },
  {
   "cell_type": "code",
   "execution_count": 5,
   "id": "05354e9d",
   "metadata": {},
   "outputs": [
    {
     "data": {
      "text/plain": [
       "4"
      ]
     },
     "execution_count": 5,
     "metadata": {},
     "output_type": "execute_result"
    }
   ],
   "source": [
    "count_directories('./')"
   ]
  },
  {
   "cell_type": "code",
   "execution_count": 6,
   "id": "f9cb02ec",
   "metadata": {},
   "outputs": [],
   "source": [
    "def get_all_subdir_path(root_path):\n",
    "    subdirs = []\n",
    "    # Iterate directory\n",
    "    for path in os.listdir(root_path):\n",
    "        # check if current path is a file\n",
    "        if os.path.isdir(os.path.join(root_path, path)):\n",
    "            subdirs.append(path)\n",
    "    return subdirs"
   ]
  },
  {
   "cell_type": "code",
   "execution_count": 7,
   "id": "43ea74fa",
   "metadata": {},
   "outputs": [
    {
     "data": {
      "text/plain": [
       "['H.R.1905',\n",
       " 'H.R.1906',\n",
       " 'H.R.2084',\n",
       " 'H.R.2466',\n",
       " 'H.R.2561',\n",
       " 'H.R.2587',\n",
       " 'H.R.2605',\n",
       " 'H.R.2606',\n",
       " 'H.R.2670',\n",
       " 'H.R.3064',\n",
       " 'H.R.3194',\n",
       " 'H.R.3196',\n",
       " 'S.1122',\n",
       " 'S.1143',\n",
       " 'S.1186',\n",
       " 'S.1206',\n",
       " 'S.1217',\n",
       " 'S.1233',\n",
       " 'S.1234',\n",
       " 'S.1283']"
      ]
     },
     "execution_count": 7,
     "metadata": {},
     "output_type": "execute_result"
    }
   ],
   "source": [
    "get_all_subdir_path(\"output/2000\")"
   ]
  },
  {
   "cell_type": "code",
   "execution_count": 8,
   "id": "367c443b",
   "metadata": {},
   "outputs": [
    {
     "data": {
      "text/plain": [
       "1"
      ]
     },
     "execution_count": 8,
     "metadata": {},
     "output_type": "execute_result"
    }
   ],
   "source": [
    "count_files(os.path.join(\"output/2000\", 'H.R.1905'))"
   ]
  },
  {
   "cell_type": "code",
   "execution_count": null,
   "id": "5a63feb5",
   "metadata": {},
   "outputs": [],
   "source": []
  },
  {
   "cell_type": "code",
   "execution_count": 9,
   "id": "798a3d24",
   "metadata": {},
   "outputs": [],
   "source": [
    "d = []\n",
    "for year in range(2001, 2023):\n",
    "    subdirs_year = get_all_subdir_path(f\"output/{year}\")\n",
    "    for subdir in subdirs_year:\n",
    "        d.append(\n",
    "            {\n",
    "                \"year\": year,\n",
    "                \"bill_id\": subdir,\n",
    "                \"num_amdt\": count_files(os.path.join(f\"output/{year}\", subdir)) -1\n",
    "            }\n",
    "        )"
   ]
  },
  {
   "cell_type": "code",
   "execution_count": 10,
   "id": "2ae69897",
   "metadata": {},
   "outputs": [
    {
     "data": {
      "text/html": [
       "<div>\n",
       "<style scoped>\n",
       "    .dataframe tbody tr th:only-of-type {\n",
       "        vertical-align: middle;\n",
       "    }\n",
       "\n",
       "    .dataframe tbody tr th {\n",
       "        vertical-align: top;\n",
       "    }\n",
       "\n",
       "    .dataframe thead th {\n",
       "        text-align: right;\n",
       "    }\n",
       "</style>\n",
       "<table border=\"1\" class=\"dataframe\">\n",
       "  <thead>\n",
       "    <tr style=\"text-align: right;\">\n",
       "      <th></th>\n",
       "      <th>year</th>\n",
       "      <th>bill_id</th>\n",
       "      <th>num_amdt</th>\n",
       "    </tr>\n",
       "  </thead>\n",
       "  <tbody>\n",
       "    <tr>\n",
       "      <th>0</th>\n",
       "      <td>2001</td>\n",
       "      <td>H.R.4425</td>\n",
       "      <td>1</td>\n",
       "    </tr>\n",
       "    <tr>\n",
       "      <th>1</th>\n",
       "      <td>2001</td>\n",
       "      <td>H.R.4461</td>\n",
       "      <td>134</td>\n",
       "    </tr>\n",
       "    <tr>\n",
       "      <th>2</th>\n",
       "      <td>2001</td>\n",
       "      <td>H.R.4475</td>\n",
       "      <td>35</td>\n",
       "    </tr>\n",
       "    <tr>\n",
       "      <th>3</th>\n",
       "      <td>2001</td>\n",
       "      <td>H.R.4516</td>\n",
       "      <td>4</td>\n",
       "    </tr>\n",
       "    <tr>\n",
       "      <th>4</th>\n",
       "      <td>2001</td>\n",
       "      <td>H.R.4576</td>\n",
       "      <td>107</td>\n",
       "    </tr>\n",
       "    <tr>\n",
       "      <th>...</th>\n",
       "      <td>...</td>\n",
       "      <td>...</td>\n",
       "      <td>...</td>\n",
       "    </tr>\n",
       "    <tr>\n",
       "      <th>181</th>\n",
       "      <td>2021</td>\n",
       "      <td>H.R.7617</td>\n",
       "      <td>14</td>\n",
       "    </tr>\n",
       "    <tr>\n",
       "      <th>182</th>\n",
       "      <td>2022</td>\n",
       "      <td>H.R.2471</td>\n",
       "      <td>18</td>\n",
       "    </tr>\n",
       "    <tr>\n",
       "      <th>183</th>\n",
       "      <td>2022</td>\n",
       "      <td>H.R.4346</td>\n",
       "      <td>44</td>\n",
       "    </tr>\n",
       "    <tr>\n",
       "      <th>184</th>\n",
       "      <td>2022</td>\n",
       "      <td>H.R.4373</td>\n",
       "      <td>5</td>\n",
       "    </tr>\n",
       "    <tr>\n",
       "      <th>185</th>\n",
       "      <td>2022</td>\n",
       "      <td>H.R.4502</td>\n",
       "      <td>8</td>\n",
       "    </tr>\n",
       "  </tbody>\n",
       "</table>\n",
       "<p>186 rows × 3 columns</p>\n",
       "</div>"
      ],
      "text/plain": [
       "     year   bill_id  num_amdt\n",
       "0    2001  H.R.4425         1\n",
       "1    2001  H.R.4461       134\n",
       "2    2001  H.R.4475        35\n",
       "3    2001  H.R.4516         4\n",
       "4    2001  H.R.4576       107\n",
       "..    ...       ...       ...\n",
       "181  2021  H.R.7617        14\n",
       "182  2022  H.R.2471        18\n",
       "183  2022  H.R.4346        44\n",
       "184  2022  H.R.4373         5\n",
       "185  2022  H.R.4502         8\n",
       "\n",
       "[186 rows x 3 columns]"
      ]
     },
     "execution_count": 10,
     "metadata": {},
     "output_type": "execute_result"
    }
   ],
   "source": [
    "amdt = pd.DataFrame(d)\n",
    "amdt"
   ]
  },
  {
   "cell_type": "code",
   "execution_count": 11,
   "id": "2d154b5b",
   "metadata": {},
   "outputs": [
    {
     "data": {
      "text/plain": [
       "Text(0.5, 1.0, 'Total Number of Amendments by Year')"
      ]
     },
     "execution_count": 11,
     "metadata": {},
     "output_type": "execute_result"
    },
    {
     "data": {
      "image/png": "[encoded data removed]",
      "text/plain": [
       "<Figure size 864x576 with 1 Axes>"
      ]
     },
     "metadata": {
      "needs_background": "light"
     },
     "output_type": "display_data"
    }
   ],
   "source": [
    "year_total = amdt.groupby(\"year\")[[\"num_amdt\"]].sum().reset_index()\n",
    "pal = sns.color_palette(\"Blues_d\", len(year_total))\n",
    "rank = year_total[\"num_amdt\"].argsort().argsort()\n",
    "\n",
    "plt.figure(figsize=(12, 8))\n",
    "sns.barplot(data = year_total, \n",
    "            x=\"num_amdt\", y=\"year\", orient=\"h\", \n",
    "           palette=np.array(pal[::1])[rank])\n",
    "plt.title(\"Total Number of Amendments by Year\")"
   ]
  },
  {
   "cell_type": "code",
   "execution_count": 12,
   "id": "06a0c510",
   "metadata": {},
   "outputs": [
    {
     "data": {
      "text/plain": [
       "Text(0.5, 1.0, 'Average Number of Amendments per Bill* by Year')"
      ]
     },
     "execution_count": 12,
     "metadata": {},
     "output_type": "execute_result"
    },
    {
     "data": {
      "image/png": "[encoded data removed]",
      "text/plain": [
       "<Figure size 864x576 with 1 Axes>"
      ]
     },
     "metadata": {
      "needs_background": "light"
     },
     "output_type": "display_data"
    }
   ],
   "source": [
    "year_total = amdt.groupby(\"year\")[[\"num_amdt\"]].mean().reset_index()\n",
    "pal = sns.color_palette(\"Blues_d\", len(year_total))\n",
    "rank = year_total[\"num_amdt\"].argsort().argsort()\n",
    "\n",
    "plt.figure(figsize=(12, 8))\n",
    "sns.barplot(data = year_total, \n",
    "            x=\"num_amdt\", y=\"year\", orient=\"h\", \n",
    "           palette=np.array(pal[::1])[rank])\n",
    "plt.title(\"Average Number of Amendments per Bill* by Year\")"
   ]
  },
  {
   "cell_type": "code",
   "execution_count": null,
   "id": "917934b1",
   "metadata": {},
   "outputs": [],
   "source": []
  }
 ],
 "metadata": {
  "kernelspec": {
   "display_name": "Python 3 (ipykernel)",
   "language": "python",
   "name": "python3"
  },
  "language_info": {
   "codemirror_mode": {
    "name": "ipython",
    "version": 3
   },
   "file_extension": ".py",
   "mimetype": "text/x-python",
   "name": "python",
   "nbconvert_exporter": "python",
   "pygments_lexer": "ipython3",
   "version": "3.8.10"
  }
 },
 "nbformat": 4,
 "nbformat_minor": 5
}
